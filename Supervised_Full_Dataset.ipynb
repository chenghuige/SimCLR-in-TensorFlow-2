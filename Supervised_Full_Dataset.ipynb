{
  "nbformat": 4,
  "nbformat_minor": 0,
  "metadata": {
    "colab": {
      "name": "scratchpad",
      "provenance": [],
      "include_colab_link": true
    },
    "kernelspec": {
      "display_name": "Python 3",
      "name": "python3"
    },
    "accelerator": "GPU"
  },
  "cells": [
    {
      "cell_type": "markdown",
      "metadata": {
        "id": "view-in-github",
        "colab_type": "text"
      },
      "source": [
        "<a href=\"https://colab.research.google.com/github/sayakpaul/SimCLR-in-TensorFlow-2/blob/master/Supervised_Full_Dataset.ipynb\" target=\"_parent\"><img src=\"https://colab.research.google.com/assets/colab-badge.svg\" alt=\"Open In Colab\"/></a>"
      ]
    },
    {
      "cell_type": "markdown",
      "metadata": {
        "id": "OJy-Q5dmd85v",
        "colab_type": "text"
      },
      "source": [
        "## Initial setup"
      ]
    },
    {
      "cell_type": "code",
      "metadata": {
        "colab_type": "code",
        "id": "lIYdn1woOS1n",
        "colab": {
          "base_uri": "https://localhost:8080/",
          "height": 34
        },
        "outputId": "d0a70376-ffe1-49a5-8792-e05d92b6accd"
      },
      "source": [
        "import tensorflow as tf\n",
        "print(tf.__version__)"
      ],
      "execution_count": null,
      "outputs": [
        {
          "output_type": "stream",
          "text": [
            "2.2.0-rc4\n"
          ],
          "name": "stdout"
        }
      ]
    },
    {
      "cell_type": "code",
      "metadata": {
        "id": "uckwlGeh4UxH",
        "colab_type": "code",
        "colab": {
          "base_uri": "https://localhost:8080/",
          "height": 306
        },
        "outputId": "f4423235-3555-4e90-caae-90dbc9d9fb25"
      },
      "source": [
        "!nvidia-smi"
      ],
      "execution_count": null,
      "outputs": [
        {
          "output_type": "stream",
          "text": [
            "Sat May  9 03:24:29 2020       \n",
            "+-----------------------------------------------------------------------------+\n",
            "| NVIDIA-SMI 440.82       Driver Version: 418.67       CUDA Version: 10.1     |\n",
            "|-------------------------------+----------------------+----------------------+\n",
            "| GPU  Name        Persistence-M| Bus-Id        Disp.A | Volatile Uncorr. ECC |\n",
            "| Fan  Temp  Perf  Pwr:Usage/Cap|         Memory-Usage | GPU-Util  Compute M. |\n",
            "|===============================+======================+======================|\n",
            "|   0  Tesla P100-PCIE...  Off  | 00000000:00:04.0 Off |                    0 |\n",
            "| N/A   35C    P0    26W / 250W |      0MiB / 16280MiB |      0%      Default |\n",
            "+-------------------------------+----------------------+----------------------+\n",
            "                                                                               \n",
            "+-----------------------------------------------------------------------------+\n",
            "| Processes:                                                       GPU Memory |\n",
            "|  GPU       PID   Type   Process name                             Usage      |\n",
            "|=============================================================================|\n",
            "|  No running processes found                                                 |\n",
            "+-----------------------------------------------------------------------------+\n"
          ],
          "name": "stdout"
        }
      ]
    },
    {
      "cell_type": "code",
      "metadata": {
        "id": "yidv44b_dnj1",
        "colab_type": "code",
        "colab": {}
      },
      "source": [
        "# Install wandb for experiment tracking\n",
        "!pip install --upgrade https://github.com/wandb/client/archive/feature/code-save.zip"
      ],
      "execution_count": null,
      "outputs": []
    },
    {
      "cell_type": "code",
      "metadata": {
        "id": "JIomoEBgdsse",
        "colab_type": "code",
        "colab": {}
      },
      "source": [
        "import wandb\n",
        "wandb.login()"
      ],
      "execution_count": null,
      "outputs": []
    },
    {
      "cell_type": "code",
      "metadata": {
        "id": "dtBEZR3b4Zo7",
        "colab_type": "code",
        "colab": {}
      },
      "source": [
        "# Other imports\n",
        "from sklearn.preprocessing import LabelEncoder\n",
        "from tensorflow.keras.layers import *\n",
        "from tensorflow.keras.models import *\n",
        "from wandb.keras import WandbCallback\n",
        "import matplotlib.pyplot as plt\n",
        "from imutils import paths\n",
        "from tqdm import tqdm\n",
        "import tensorflow as tf\n",
        "import numpy as np\n",
        "import cv2\n",
        "\n",
        "# Random seed fixation\n",
        "tf.random.set_seed(666)\n",
        "np.random.seed(666)"
      ],
      "execution_count": null,
      "outputs": []
    },
    {
      "cell_type": "markdown",
      "metadata": {
        "id": "Umc5UxD6eCln",
        "colab_type": "text"
      },
      "source": [
        "## Dataset gathering and preparation"
      ]
    },
    {
      "cell_type": "code",
      "metadata": {
        "id": "9mG6EaYR4XTN",
        "colab_type": "code",
        "colab": {}
      },
      "source": [
        "# Gather dataset\n",
        "!git clone https://github.com/thunderInfy/imagenet-5-categories"
      ],
      "execution_count": null,
      "outputs": []
    },
    {
      "cell_type": "code",
      "metadata": {
        "id": "XPs164bL4loQ",
        "colab_type": "code",
        "colab": {
          "base_uri": "https://localhost:8080/",
          "height": 34
        },
        "outputId": "3997fddd-c44a-441a-e7d7-a751b707618d"
      },
      "source": [
        "# Train and test image paths\n",
        "train_images = list(paths.list_images(\"imagenet-5-categories/train\"))\n",
        "test_images = list(paths.list_images(\"imagenet-5-categories/test\"))\n",
        "print(len(train_images), len(test_images))"
      ],
      "execution_count": null,
      "outputs": [
        {
          "output_type": "stream",
          "text": [
            "1250 250\n"
          ],
          "name": "stdout"
        }
      ]
    },
    {
      "cell_type": "code",
      "metadata": {
        "id": "eOLU3Y224oXl",
        "colab_type": "code",
        "colab": {}
      },
      "source": [
        "def prepare_images(image_paths):\n",
        "    images = []\n",
        "    labels = []\n",
        "\n",
        "    for image in tqdm(image_paths):\n",
        "        image_pixels = plt.imread(image)\n",
        "        image_pixels = cv2.resize(image_pixels, (224, 224))\n",
        "        image_pixels = image_pixels/255.\n",
        "\n",
        "        label = image.split(\"/\")[2].split(\"_\")[0]\n",
        "\n",
        "        images.append(image_pixels)\n",
        "        labels.append(label)\n",
        "\n",
        "    images = np.array(images)\n",
        "    labels = np.array(labels)\n",
        "\n",
        "    print(images.shape, labels.shape)\n",
        "\n",
        "    return images, labels"
      ],
      "execution_count": null,
      "outputs": []
    },
    {
      "cell_type": "code",
      "metadata": {
        "id": "cWMYKwiW40f6",
        "colab_type": "code",
        "colab": {
          "base_uri": "https://localhost:8080/",
          "height": 85
        },
        "outputId": "169bc817-3eeb-4a58-f00c-44b58fd1830c"
      },
      "source": [
        "X_train, y_train = prepare_images(train_images)\n",
        "X_test, y_test = prepare_images(test_images)"
      ],
      "execution_count": null,
      "outputs": [
        {
          "output_type": "stream",
          "text": [
            "100%|██████████| 1250/1250 [00:05<00:00, 215.45it/s]\n",
            " 10%|█         | 25/250 [00:00<00:00, 241.84it/s]"
          ],
          "name": "stderr"
        },
        {
          "output_type": "stream",
          "text": [
            "(1250, 224, 224, 3) (1250,)\n"
          ],
          "name": "stdout"
        },
        {
          "output_type": "stream",
          "text": [
            "100%|██████████| 250/250 [00:01<00:00, 213.37it/s]\n"
          ],
          "name": "stderr"
        },
        {
          "output_type": "stream",
          "text": [
            "(250, 224, 224, 3) (250,)\n"
          ],
          "name": "stdout"
        }
      ]
    },
    {
      "cell_type": "code",
      "metadata": {
        "id": "0hbCPZRP45aJ",
        "colab_type": "code",
        "colab": {}
      },
      "source": [
        "le = LabelEncoder()\n",
        "y_train_enc = le.fit_transform(y_train)\n",
        "y_test_enc = le.transform(y_test)"
      ],
      "execution_count": null,
      "outputs": []
    },
    {
      "cell_type": "code",
      "metadata": {
        "id": "KPT9-NWT6Q5p",
        "colab_type": "code",
        "colab": {}
      },
      "source": [
        "# Set up TensorFlow dataset for performance optimization\n",
        "\n",
        "AUTO = tf.data.experimental.AUTOTUNE\n",
        "BATCH_SIZE = 64\n",
        "\n",
        "train_ds = (\n",
        "    tf.data.Dataset.from_tensor_slices((X_train, y_train_enc))\n",
        "    .shuffle(1024)\n",
        "    .batch(BATCH_SIZE)\n",
        "    .prefetch(AUTO)\n",
        ")\n",
        "\n",
        "test_ds = (\n",
        "    tf.data.Dataset.from_tensor_slices((X_test, y_test_enc))\n",
        "    .shuffle(1024)\n",
        "    .batch(BATCH_SIZE)\n",
        "    .prefetch(AUTO)\n",
        ")"
      ],
      "execution_count": null,
      "outputs": []
    },
    {
      "cell_type": "markdown",
      "metadata": {
        "id": "p-bth_5SeUcC",
        "colab_type": "text"
      },
      "source": [
        "## Utilities"
      ]
    },
    {
      "cell_type": "code",
      "metadata": {
        "id": "r3mCu1yI49fT",
        "colab_type": "code",
        "colab": {}
      },
      "source": [
        "# Architecture utils\n",
        "def get_resnet():\n",
        "    base_model = tf.keras.applications.ResNet50(include_top=False, weights=None, input_shape=(224, 224, 3))\n",
        "    base_model.trainable = True\n",
        "    \n",
        "    inputs = Input((224, 224, 3))\n",
        "    features = base_model(inputs, training=False)\n",
        "    pooled_features = GlobalAveragePooling2D()(features)\n",
        "\n",
        "    pooled_features = Dense(256)(pooled_features)\n",
        "    pooled_features = Activation(\"relu\")(pooled_features)\n",
        "    outputs = Dense(5, activation=\"softmax\")(pooled_features)\n",
        "\n",
        "    resnet_simclr = Model(inputs, outputs)\n",
        "\n",
        "    return resnet_simclr"
      ],
      "execution_count": null,
      "outputs": []
    },
    {
      "cell_type": "code",
      "metadata": {
        "id": "NBrNUWWp6F5Q",
        "colab_type": "code",
        "colab": {}
      },
      "source": [
        "def plot_training(H):\n",
        "\twith plt.xkcd():\n",
        "\t\tplt.plot(H.history[\"loss\"], label=\"train_loss\")\n",
        "\t\tplt.plot(H.history[\"val_loss\"], label=\"val_loss\")\n",
        "\t\tplt.plot(H.history[\"accuracy\"], label=\"train_acc\")\n",
        "\t\tplt.plot(H.history[\"val_accuracy\"], label=\"val_acc\")\n",
        "\t\tplt.title(\"Training Loss and Accuracy\")\n",
        "\t\tplt.xlabel(\"Epoch #\")\n",
        "\t\tplt.ylabel(\"Loss/Accuracy\")\n",
        "\t\tplt.legend(loc=\"lower left\")\n",
        "\t\tplt.show()"
      ],
      "execution_count": null,
      "outputs": []
    },
    {
      "cell_type": "markdown",
      "metadata": {
        "id": "p1WyaOnoeY2R",
        "colab_type": "text"
      },
      "source": [
        "## Training"
      ]
    },
    {
      "cell_type": "code",
      "metadata": {
        "id": "Df8sYNoq6LoS",
        "colab_type": "code",
        "colab": {}
      },
      "source": [
        "# Early Stopping to prevent overfitting\n",
        "es = tf.keras.callbacks.EarlyStopping(monitor=\"val_loss\", patience=2, verbose=2, restore_best_weights=True)"
      ],
      "execution_count": null,
      "outputs": []
    },
    {
      "cell_type": "code",
      "metadata": {
        "id": "fG_OQZ1j55iG",
        "colab_type": "code",
        "colab": {
          "base_uri": "https://localhost:8080/",
          "height": 357
        },
        "outputId": "be3dc84e-a907-49a0-e7c6-8ea82b3ec046"
      },
      "source": [
        "get_resnet().summary()"
      ],
      "execution_count": null,
      "outputs": [
        {
          "output_type": "stream",
          "text": [
            "Model: \"model\"\n",
            "_________________________________________________________________\n",
            "Layer (type)                 Output Shape              Param #   \n",
            "=================================================================\n",
            "input_2 (InputLayer)         [(None, 224, 224, 3)]     0         \n",
            "_________________________________________________________________\n",
            "resnet50 (Model)             (None, 7, 7, 2048)        23587712  \n",
            "_________________________________________________________________\n",
            "global_average_pooling2d (Gl (None, 2048)              0         \n",
            "_________________________________________________________________\n",
            "dense (Dense)                (None, 256)               524544    \n",
            "_________________________________________________________________\n",
            "activation (Activation)      (None, 256)               0         \n",
            "_________________________________________________________________\n",
            "dense_1 (Dense)              (None, 5)                 1285      \n",
            "=================================================================\n",
            "Total params: 24,113,541\n",
            "Trainable params: 24,060,421\n",
            "Non-trainable params: 53,120\n",
            "_________________________________________________________________\n"
          ],
          "name": "stdout"
        }
      ]
    },
    {
      "cell_type": "code",
      "metadata": {
        "id": "vHVEJ6Li6Eo8",
        "colab_type": "code",
        "colab": {
          "base_uri": "https://localhost:8080/",
          "height": 1000
        },
        "outputId": "c99e8e1a-211f-4b2a-9d25-25d0d053f62d"
      },
      "source": [
        "# Train the supervised model with full data\n",
        "wandb.init(project=\"simclr\", id=\"supervised-training\")\n",
        "\n",
        "model = get_resnet()\n",
        "model.compile(loss=\"sparse_categorical_crossentropy\", metrics=[\"accuracy\"],\n",
        "              optimizer=tf.keras.optimizers.Adam(1e-3))\n",
        "history = model.fit(train_ds,\n",
        "                    validation_data=test_ds,\n",
        "                    epochs=50,\n",
        "                    callbacks=[es, WandbCallback()])\n",
        "plot_training(history)"
      ],
      "execution_count": 20,
      "outputs": [
        {
          "output_type": "stream",
          "text": [
            "Epoch 1/100\n",
            "20/20 [==============================] - 10s 507ms/step - loss: 1.6105 - accuracy: 0.1968 - val_loss: 1.6027 - val_accuracy: 0.2000\n",
            "Epoch 2/100\n",
            "20/20 [==============================] - 9s 457ms/step - loss: 1.6051 - accuracy: 0.2328 - val_loss: 1.5994 - val_accuracy: 0.2040\n",
            "Epoch 3/100\n",
            "20/20 [==============================] - 9s 464ms/step - loss: 1.6029 - accuracy: 0.2032 - val_loss: 1.5950 - val_accuracy: 0.2120\n",
            "Epoch 4/100\n",
            "20/20 [==============================] - 9s 467ms/step - loss: 1.5983 - accuracy: 0.2304 - val_loss: 1.5920 - val_accuracy: 0.2160\n",
            "Epoch 5/100\n",
            "20/20 [==============================] - 9s 468ms/step - loss: 1.5941 - accuracy: 0.2520 - val_loss: 1.5878 - val_accuracy: 0.2480\n",
            "Epoch 6/100\n",
            "20/20 [==============================] - 10s 483ms/step - loss: 1.5921 - accuracy: 0.2304 - val_loss: 1.5839 - val_accuracy: 0.2080\n",
            "Epoch 7/100\n",
            "20/20 [==============================] - 9s 464ms/step - loss: 1.5912 - accuracy: 0.2592 - val_loss: 1.5806 - val_accuracy: 0.2720\n",
            "Epoch 8/100\n",
            "20/20 [==============================] - 9s 465ms/step - loss: 1.5841 - accuracy: 0.2336 - val_loss: 1.5773 - val_accuracy: 0.2400\n",
            "Epoch 9/100\n",
            "20/20 [==============================] - 9s 467ms/step - loss: 1.5813 - accuracy: 0.2792 - val_loss: 1.5737 - val_accuracy: 0.2880\n",
            "Epoch 10/100\n",
            "20/20 [==============================] - 9s 462ms/step - loss: 1.5774 - accuracy: 0.2936 - val_loss: 1.5701 - val_accuracy: 0.3520\n",
            "Epoch 11/100\n",
            "20/20 [==============================] - 9s 469ms/step - loss: 1.5742 - accuracy: 0.2752 - val_loss: 1.5670 - val_accuracy: 0.2760\n",
            "Epoch 12/100\n",
            "20/20 [==============================] - 10s 477ms/step - loss: 1.5719 - accuracy: 0.3432 - val_loss: 1.5635 - val_accuracy: 0.4040\n",
            "Epoch 13/100\n",
            "20/20 [==============================] - 9s 470ms/step - loss: 1.5703 - accuracy: 0.3248 - val_loss: 1.5603 - val_accuracy: 0.3280\n",
            "Epoch 14/100\n",
            "20/20 [==============================] - 9s 464ms/step - loss: 1.5659 - accuracy: 0.3224 - val_loss: 1.5564 - val_accuracy: 0.3520\n",
            "Epoch 15/100\n",
            "20/20 [==============================] - 9s 461ms/step - loss: 1.5622 - accuracy: 0.3400 - val_loss: 1.5533 - val_accuracy: 0.3560\n",
            "Epoch 16/100\n",
            "20/20 [==============================] - 9s 461ms/step - loss: 1.5593 - accuracy: 0.3088 - val_loss: 1.5497 - val_accuracy: 0.3680\n",
            "Epoch 17/100\n",
            "20/20 [==============================] - 9s 464ms/step - loss: 1.5561 - accuracy: 0.4128 - val_loss: 1.5488 - val_accuracy: 0.4640\n",
            "Epoch 18/100\n",
            "20/20 [==============================] - 9s 460ms/step - loss: 1.5527 - accuracy: 0.3856 - val_loss: 1.5433 - val_accuracy: 0.3600\n",
            "Epoch 19/100\n",
            "20/20 [==============================] - 9s 475ms/step - loss: 1.5510 - accuracy: 0.3824 - val_loss: 1.5406 - val_accuracy: 0.3640\n",
            "Epoch 20/100\n",
            "20/20 [==============================] - 9s 466ms/step - loss: 1.5480 - accuracy: 0.3368 - val_loss: 1.5375 - val_accuracy: 0.4040\n",
            "Epoch 21/100\n",
            "20/20 [==============================] - 10s 475ms/step - loss: 1.5451 - accuracy: 0.4224 - val_loss: 1.5348 - val_accuracy: 0.4080\n",
            "Epoch 22/100\n",
            "20/20 [==============================] - 9s 463ms/step - loss: 1.5441 - accuracy: 0.3632 - val_loss: 1.5313 - val_accuracy: 0.3960\n",
            "Epoch 23/100\n",
            "20/20 [==============================] - 9s 461ms/step - loss: 1.5396 - accuracy: 0.4176 - val_loss: 1.5292 - val_accuracy: 0.4480\n",
            "Epoch 24/100\n",
            "20/20 [==============================] - 9s 462ms/step - loss: 1.5367 - accuracy: 0.4088 - val_loss: 1.5252 - val_accuracy: 0.4360\n",
            "Epoch 25/100\n",
            "20/20 [==============================] - 9s 462ms/step - loss: 1.5338 - accuracy: 0.4240 - val_loss: 1.5224 - val_accuracy: 0.4120\n",
            "Epoch 26/100\n",
            "20/20 [==============================] - 9s 467ms/step - loss: 1.5312 - accuracy: 0.4080 - val_loss: 1.5197 - val_accuracy: 0.4760\n",
            "Epoch 27/100\n",
            "20/20 [==============================] - 9s 461ms/step - loss: 1.5283 - accuracy: 0.4152 - val_loss: 1.5169 - val_accuracy: 0.4240\n",
            "Epoch 28/100\n",
            "20/20 [==============================] - 9s 474ms/step - loss: 1.5250 - accuracy: 0.4488 - val_loss: 1.5143 - val_accuracy: 0.4720\n",
            "Epoch 29/100\n",
            "20/20 [==============================] - 9s 475ms/step - loss: 1.5228 - accuracy: 0.4360 - val_loss: 1.5115 - val_accuracy: 0.4640\n",
            "Epoch 30/100\n",
            "20/20 [==============================] - 9s 473ms/step - loss: 1.5204 - accuracy: 0.4520 - val_loss: 1.5082 - val_accuracy: 0.4440\n",
            "Epoch 31/100\n",
            "20/20 [==============================] - 9s 460ms/step - loss: 1.5184 - accuracy: 0.4152 - val_loss: 1.5055 - val_accuracy: 0.4720\n",
            "Epoch 32/100\n",
            "20/20 [==============================] - 9s 471ms/step - loss: 1.5175 - accuracy: 0.4648 - val_loss: 1.5033 - val_accuracy: 0.4680\n",
            "Epoch 33/100\n",
            "20/20 [==============================] - 9s 462ms/step - loss: 1.5125 - accuracy: 0.4264 - val_loss: 1.4996 - val_accuracy: 0.4600\n",
            "Epoch 34/100\n",
            "20/20 [==============================] - 9s 474ms/step - loss: 1.5101 - accuracy: 0.4208 - val_loss: 1.4973 - val_accuracy: 0.4560\n",
            "Epoch 35/100\n",
            "20/20 [==============================] - 9s 468ms/step - loss: 1.5079 - accuracy: 0.4744 - val_loss: 1.4945 - val_accuracy: 0.4760\n",
            "Epoch 36/100\n",
            "20/20 [==============================] - 10s 476ms/step - loss: 1.5066 - accuracy: 0.4640 - val_loss: 1.4917 - val_accuracy: 0.4560\n",
            "Epoch 37/100\n",
            "20/20 [==============================] - 9s 459ms/step - loss: 1.5040 - accuracy: 0.4312 - val_loss: 1.4887 - val_accuracy: 0.4520\n",
            "Epoch 38/100\n",
            "20/20 [==============================] - 9s 467ms/step - loss: 1.5016 - accuracy: 0.4536 - val_loss: 1.4872 - val_accuracy: 0.4840\n",
            "Epoch 39/100\n",
            "20/20 [==============================] - 9s 462ms/step - loss: 1.4988 - accuracy: 0.4648 - val_loss: 1.4842 - val_accuracy: 0.4600\n",
            "Epoch 40/100\n",
            "20/20 [==============================] - 10s 476ms/step - loss: 1.4967 - accuracy: 0.4664 - val_loss: 1.4823 - val_accuracy: 0.4840\n",
            "Epoch 41/100\n",
            "20/20 [==============================] - 9s 472ms/step - loss: 1.4941 - accuracy: 0.4504 - val_loss: 1.4787 - val_accuracy: 0.4560\n",
            "Epoch 42/100\n",
            "20/20 [==============================] - 9s 471ms/step - loss: 1.4919 - accuracy: 0.4440 - val_loss: 1.4765 - val_accuracy: 0.4560\n",
            "Epoch 43/100\n",
            "20/20 [==============================] - 9s 462ms/step - loss: 1.4904 - accuracy: 0.4656 - val_loss: 1.4751 - val_accuracy: 0.4840\n",
            "Epoch 44/100\n",
            "20/20 [==============================] - 9s 461ms/step - loss: 1.4891 - accuracy: 0.4408 - val_loss: 1.4718 - val_accuracy: 0.4520\n",
            "Epoch 45/100\n",
            "20/20 [==============================] - 9s 463ms/step - loss: 1.4846 - accuracy: 0.4720 - val_loss: 1.4691 - val_accuracy: 0.4560\n",
            "Epoch 46/100\n",
            "20/20 [==============================] - 9s 474ms/step - loss: 1.4839 - accuracy: 0.4488 - val_loss: 1.4675 - val_accuracy: 0.4720\n",
            "Epoch 47/100\n",
            "20/20 [==============================] - 9s 468ms/step - loss: 1.4808 - accuracy: 0.4616 - val_loss: 1.4648 - val_accuracy: 0.4760\n",
            "Epoch 48/100\n",
            "20/20 [==============================] - 10s 475ms/step - loss: 1.4783 - accuracy: 0.4696 - val_loss: 1.4619 - val_accuracy: 0.4600\n",
            "Epoch 49/100\n",
            "20/20 [==============================] - 9s 456ms/step - loss: 1.4766 - accuracy: 0.4688 - val_loss: 1.4597 - val_accuracy: 0.4800\n",
            "Epoch 50/100\n",
            "20/20 [==============================] - 9s 461ms/step - loss: 1.4738 - accuracy: 0.4744 - val_loss: 1.4569 - val_accuracy: 0.4560\n",
            "Epoch 51/100\n",
            "20/20 [==============================] - 9s 466ms/step - loss: 1.4722 - accuracy: 0.4752 - val_loss: 1.4553 - val_accuracy: 0.4840\n",
            "Epoch 52/100\n",
            "20/20 [==============================] - 9s 462ms/step - loss: 1.4706 - accuracy: 0.4824 - val_loss: 1.4534 - val_accuracy: 0.4560\n",
            "Epoch 53/100\n",
            "20/20 [==============================] - 10s 477ms/step - loss: 1.4684 - accuracy: 0.4640 - val_loss: 1.4504 - val_accuracy: 0.4800\n",
            "Epoch 54/100\n",
            "20/20 [==============================] - 9s 474ms/step - loss: 1.4665 - accuracy: 0.4752 - val_loss: 1.4486 - val_accuracy: 0.4800\n",
            "Epoch 55/100\n",
            "20/20 [==============================] - 9s 469ms/step - loss: 1.4652 - accuracy: 0.4736 - val_loss: 1.4477 - val_accuracy: 0.4960\n",
            "Epoch 56/100\n",
            "20/20 [==============================] - 9s 462ms/step - loss: 1.4615 - accuracy: 0.4704 - val_loss: 1.4442 - val_accuracy: 0.4720\n",
            "Epoch 57/100\n",
            "20/20 [==============================] - 9s 461ms/step - loss: 1.4608 - accuracy: 0.4800 - val_loss: 1.4424 - val_accuracy: 0.4920\n",
            "Epoch 58/100\n",
            "20/20 [==============================] - 9s 470ms/step - loss: 1.4578 - accuracy: 0.4920 - val_loss: 1.4400 - val_accuracy: 0.4880\n",
            "Epoch 59/100\n",
            "20/20 [==============================] - 9s 467ms/step - loss: 1.4559 - accuracy: 0.5008 - val_loss: 1.4376 - val_accuracy: 0.4840\n",
            "Epoch 60/100\n",
            "20/20 [==============================] - 10s 476ms/step - loss: 1.4542 - accuracy: 0.4792 - val_loss: 1.4352 - val_accuracy: 0.4880\n",
            "Epoch 61/100\n",
            "20/20 [==============================] - 9s 463ms/step - loss: 1.4518 - accuracy: 0.4944 - val_loss: 1.4341 - val_accuracy: 0.5000\n",
            "Epoch 62/100\n",
            "20/20 [==============================] - 9s 467ms/step - loss: 1.4504 - accuracy: 0.4840 - val_loss: 1.4310 - val_accuracy: 0.4880\n",
            "Epoch 63/100\n",
            "20/20 [==============================] - 9s 462ms/step - loss: 1.4493 - accuracy: 0.4776 - val_loss: 1.4294 - val_accuracy: 0.4720\n",
            "Epoch 64/100\n",
            "20/20 [==============================] - 9s 473ms/step - loss: 1.4468 - accuracy: 0.4912 - val_loss: 1.4274 - val_accuracy: 0.4920\n",
            "Epoch 65/100\n",
            "20/20 [==============================] - 9s 473ms/step - loss: 1.4449 - accuracy: 0.4824 - val_loss: 1.4251 - val_accuracy: 0.4720\n",
            "Epoch 66/100\n",
            "20/20 [==============================] - 9s 469ms/step - loss: 1.4430 - accuracy: 0.5016 - val_loss: 1.4242 - val_accuracy: 0.5080\n",
            "Epoch 67/100\n",
            "20/20 [==============================] - 9s 459ms/step - loss: 1.4408 - accuracy: 0.5056 - val_loss: 1.4211 - val_accuracy: 0.4760\n",
            "Epoch 68/100\n",
            "20/20 [==============================] - 9s 462ms/step - loss: 1.4406 - accuracy: 0.4584 - val_loss: 1.4189 - val_accuracy: 0.4800\n",
            "Epoch 69/100\n",
            "20/20 [==============================] - 9s 463ms/step - loss: 1.4379 - accuracy: 0.4904 - val_loss: 1.4170 - val_accuracy: 0.4920\n",
            "Epoch 70/100\n",
            "20/20 [==============================] - 9s 466ms/step - loss: 1.4371 - accuracy: 0.5056 - val_loss: 1.4155 - val_accuracy: 0.4960\n",
            "Epoch 71/100\n",
            "20/20 [==============================] - 9s 472ms/step - loss: 1.4338 - accuracy: 0.4896 - val_loss: 1.4140 - val_accuracy: 0.4920\n",
            "Epoch 72/100\n",
            "20/20 [==============================] - 10s 481ms/step - loss: 1.4327 - accuracy: 0.4912 - val_loss: 1.4115 - val_accuracy: 0.4800\n",
            "Epoch 73/100\n",
            "20/20 [==============================] - 9s 462ms/step - loss: 1.4307 - accuracy: 0.5072 - val_loss: 1.4096 - val_accuracy: 0.4840\n",
            "Epoch 74/100\n",
            "20/20 [==============================] - 9s 463ms/step - loss: 1.4303 - accuracy: 0.4840 - val_loss: 1.4076 - val_accuracy: 0.4840\n",
            "Epoch 75/100\n",
            "20/20 [==============================] - 9s 462ms/step - loss: 1.4270 - accuracy: 0.5080 - val_loss: 1.4067 - val_accuracy: 0.4920\n",
            "Epoch 76/100\n",
            "20/20 [==============================] - 9s 465ms/step - loss: 1.4246 - accuracy: 0.5032 - val_loss: 1.4040 - val_accuracy: 0.4840\n",
            "Epoch 77/100\n",
            "20/20 [==============================] - 9s 473ms/step - loss: 1.4235 - accuracy: 0.4984 - val_loss: 1.4022 - val_accuracy: 0.5000\n",
            "Epoch 78/100\n",
            "20/20 [==============================] - 10s 478ms/step - loss: 1.4222 - accuracy: 0.5000 - val_loss: 1.4002 - val_accuracy: 0.5080\n",
            "Epoch 79/100\n",
            "20/20 [==============================] - 9s 462ms/step - loss: 1.4198 - accuracy: 0.5040 - val_loss: 1.3993 - val_accuracy: 0.5120\n",
            "Epoch 80/100\n",
            "20/20 [==============================] - 9s 463ms/step - loss: 1.4185 - accuracy: 0.4984 - val_loss: 1.3965 - val_accuracy: 0.4880\n",
            "Epoch 81/100\n",
            "20/20 [==============================] - 9s 465ms/step - loss: 1.4188 - accuracy: 0.4736 - val_loss: 1.3962 - val_accuracy: 0.4960\n",
            "Epoch 82/100\n",
            "20/20 [==============================] - 9s 464ms/step - loss: 1.4150 - accuracy: 0.5120 - val_loss: 1.3950 - val_accuracy: 0.5000\n",
            "Epoch 83/100\n",
            "20/20 [==============================] - 9s 466ms/step - loss: 1.4133 - accuracy: 0.4920 - val_loss: 1.3923 - val_accuracy: 0.5080\n",
            "Epoch 84/100\n",
            "20/20 [==============================] - 10s 477ms/step - loss: 1.4121 - accuracy: 0.5000 - val_loss: 1.3899 - val_accuracy: 0.5040\n",
            "Epoch 85/100\n",
            "20/20 [==============================] - 9s 462ms/step - loss: 1.4109 - accuracy: 0.4992 - val_loss: 1.3890 - val_accuracy: 0.4960\n",
            "Epoch 86/100\n",
            "20/20 [==============================] - 9s 459ms/step - loss: 1.4094 - accuracy: 0.5104 - val_loss: 1.3867 - val_accuracy: 0.5000\n",
            "Epoch 87/100\n",
            "20/20 [==============================] - 9s 464ms/step - loss: 1.4085 - accuracy: 0.4824 - val_loss: 1.3846 - val_accuracy: 0.4920\n",
            "Epoch 88/100\n",
            "20/20 [==============================] - 9s 462ms/step - loss: 1.4063 - accuracy: 0.5112 - val_loss: 1.3846 - val_accuracy: 0.5160\n",
            "Epoch 89/100\n",
            "20/20 [==============================] - 9s 472ms/step - loss: 1.4063 - accuracy: 0.5112 - val_loss: 1.3818 - val_accuracy: 0.5080\n",
            "Epoch 90/100\n",
            "20/20 [==============================] - 10s 477ms/step - loss: 1.4035 - accuracy: 0.4768 - val_loss: 1.3810 - val_accuracy: 0.5280\n",
            "Epoch 91/100\n",
            "20/20 [==============================] - 9s 473ms/step - loss: 1.4021 - accuracy: 0.5040 - val_loss: 1.3790 - val_accuracy: 0.5080\n",
            "Epoch 92/100\n",
            "20/20 [==============================] - 9s 460ms/step - loss: 1.4011 - accuracy: 0.5048 - val_loss: 1.3768 - val_accuracy: 0.4880\n",
            "Epoch 93/100\n",
            "20/20 [==============================] - 9s 462ms/step - loss: 1.3989 - accuracy: 0.5024 - val_loss: 1.3756 - val_accuracy: 0.5040\n",
            "Epoch 94/100\n",
            "20/20 [==============================] - 9s 468ms/step - loss: 1.3979 - accuracy: 0.4952 - val_loss: 1.3737 - val_accuracy: 0.5080\n",
            "Epoch 95/100\n",
            "20/20 [==============================] - 9s 467ms/step - loss: 1.3965 - accuracy: 0.5032 - val_loss: 1.3725 - val_accuracy: 0.5040\n",
            "Epoch 96/100\n",
            "20/20 [==============================] - 9s 472ms/step - loss: 1.3953 - accuracy: 0.5024 - val_loss: 1.3711 - val_accuracy: 0.5120\n",
            "Epoch 97/100\n",
            "20/20 [==============================] - 10s 481ms/step - loss: 1.3930 - accuracy: 0.5048 - val_loss: 1.3695 - val_accuracy: 0.5120\n",
            "Epoch 98/100\n",
            "20/20 [==============================] - 9s 463ms/step - loss: 1.3940 - accuracy: 0.4968 - val_loss: 1.3679 - val_accuracy: 0.4920\n",
            "Epoch 99/100\n",
            "20/20 [==============================] - 9s 461ms/step - loss: 1.3923 - accuracy: 0.4952 - val_loss: 1.3674 - val_accuracy: 0.5080\n",
            "Epoch 100/100\n",
            "20/20 [==============================] - 9s 464ms/step - loss: 1.3902 - accuracy: 0.5088 - val_loss: 1.3649 - val_accuracy: 0.5080\n"
          ],
          "name": "stdout"
        },
        {
          "output_type": "display_data",
          "data": {
            "image/png": "[encoded data removed]",
            "text/plain": [
              "<Figure size 432x288 with 1 Axes>"
            ]
          },
          "metadata": {
            "tags": []
          }
        }
      ]
    }
  ]
}