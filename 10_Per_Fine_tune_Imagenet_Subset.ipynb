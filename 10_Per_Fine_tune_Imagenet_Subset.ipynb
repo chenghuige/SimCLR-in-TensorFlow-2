{
  "nbformat": 4,
  "nbformat_minor": 0,
  "metadata": {
    "accelerator": "GPU",
    "colab": {
      "name": "scratchpad",
      "provenance": [],
      "include_colab_link": true
    },
    "kernelspec": {
      "display_name": "Python 3",
      "language": "python",
      "name": "python3"
    },
    "language_info": {
      "codemirror_mode": {
        "name": "ipython",
        "version": 3
      },
      "file_extension": ".py",
      "mimetype": "text/x-python",
      "name": "python",
      "nbconvert_exporter": "python",
      "pygments_lexer": "ipython3",
      "version": "3.7.1"
    }
  },
  "cells": [
    {
      "cell_type": "markdown",
      "metadata": {
        "id": "view-in-github",
        "colab_type": "text"
      },
      "source": [
        "<a href=\"https://colab.research.google.com/github/sayakpaul/SimCLR-in-TensorFlow-2/blob/master/10_Per_Fine_tune_Imagenet_Subset.ipynb\" target=\"_parent\"><img src=\"https://colab.research.google.com/assets/colab-badge.svg\" alt=\"Open In Colab\"/></a>"
      ]
    },
    {
      "cell_type": "markdown",
      "metadata": {
        "id": "7ck3ljcss8R2",
        "colab_type": "text"
      },
      "source": [
        "## Initial setup"
      ]
    },
    {
      "cell_type": "code",
      "metadata": {
        "colab_type": "code",
        "id": "lIYdn1woOS1n",
        "colab": {
          "base_uri": "https://localhost:8080/",
          "height": 34
        },
        "outputId": "5539f6fa-2931-41e4-a760-6e7935c637c4"
      },
      "source": [
        "import tensorflow as tf\n",
        "print(tf.__version__)"
      ],
      "execution_count": 1,
      "outputs": [
        {
          "output_type": "stream",
          "text": [
            "2.3.0\n"
          ],
          "name": "stdout"
        }
      ]
    },
    {
      "cell_type": "code",
      "metadata": {
        "colab_type": "code",
        "id": "M3obU9ZXpGR0",
        "colab": {
          "base_uri": "https://localhost:8080/",
          "height": 357
        },
        "outputId": "bdf27168-fd4e-4cdf-fe62-43a87c96098e"
      },
      "source": [
        "!nvidia-smi"
      ],
      "execution_count": 2,
      "outputs": [
        {
          "output_type": "stream",
          "text": [
            "Thu Aug 20 04:36:36 2020       \n",
            "+-----------------------------------------------------------------------------+\n",
            "| NVIDIA-SMI 450.57       Driver Version: 418.67       CUDA Version: 10.1     |\n",
            "|-------------------------------+----------------------+----------------------+\n",
            "| GPU  Name        Persistence-M| Bus-Id        Disp.A | Volatile Uncorr. ECC |\n",
            "| Fan  Temp  Perf  Pwr:Usage/Cap|         Memory-Usage | GPU-Util  Compute M. |\n",
            "|                               |                      |               MIG M. |\n",
            "|===============================+======================+======================|\n",
            "|   0  Tesla P100-PCIE...  Off  | 00000000:00:04.0 Off |                    0 |\n",
            "| N/A   37C    P0    25W / 250W |      0MiB / 16280MiB |      0%      Default |\n",
            "|                               |                      |                 ERR! |\n",
            "+-------------------------------+----------------------+----------------------+\n",
            "                                                                               \n",
            "+-----------------------------------------------------------------------------+\n",
            "| Processes:                                                                  |\n",
            "|  GPU   GI   CI        PID   Type   Process name                  GPU Memory |\n",
            "|        ID   ID                                                   Usage      |\n",
            "|=============================================================================|\n",
            "|  No running processes found                                                 |\n",
            "+-----------------------------------------------------------------------------+\n"
          ],
          "name": "stdout"
        }
      ]
    },
    {
      "cell_type": "markdown",
      "metadata": {
        "id": "hhE3wbuUtJC3",
        "colab_type": "text"
      },
      "source": [
        "### Restoring model weights from GCS Bucket"
      ]
    },
    {
      "cell_type": "code",
      "metadata": {
        "colab_type": "code",
        "id": "JoQSrT6gpbNM",
        "scrolled": true,
        "colab": {
          "base_uri": "https://localhost:8080/",
          "height": 204
        },
        "outputId": "e1d71253-606e-42ab-b395-04b40f1b85ba"
      },
      "source": [
        "!wget https://storage.googleapis.com/resnet-simclr-pseudo-labels/resnet_simclr_modified_ae.h5"
      ],
      "execution_count": 3,
      "outputs": [
        {
          "output_type": "stream",
          "text": [
            "--2020-08-20 04:36:53--  https://storage.googleapis.com/resnet-simclr-pseudo-labels/resnet_simclr_modified_ae.h5\n",
            "Resolving storage.googleapis.com (storage.googleapis.com)... 74.125.20.128, 74.125.142.128, 74.125.195.128, ...\n",
            "Connecting to storage.googleapis.com (storage.googleapis.com)|74.125.20.128|:443... connected.\n",
            "HTTP request sent, awaiting response... 200 OK\n",
            "Length: 96848264 (92M) [application/octet-stream]\n",
            "Saving to: ‘resnet_simclr_modified_ae.h5’\n",
            "\n",
            "resnet_simclr_modif 100%[===================>]  92.36M   153MB/s    in 0.6s    \n",
            "\n",
            "2020-08-20 04:36:54 (153 MB/s) - ‘resnet_simclr_modified_ae.h5’ saved [96848264/96848264]\n",
            "\n"
          ],
          "name": "stdout"
        }
      ]
    },
    {
      "cell_type": "code",
      "metadata": {
        "colab_type": "code",
        "id": "dCsK6zBRpmdo",
        "colab": {
          "base_uri": "https://localhost:8080/",
          "height": 51
        },
        "outputId": "873a0426-63c5-4829-cc62-54a4de04358b"
      },
      "source": [
        "# Other imports\n",
        "from sklearn.preprocessing import LabelEncoder\n",
        "from tensorflow.keras.layers import *\n",
        "from tensorflow.keras.models import *\n",
        "import matplotlib.pyplot as plt\n",
        "from imutils import paths\n",
        "from tqdm import tqdm\n",
        "import tensorflow as tf\n",
        "import seaborn as sns\n",
        "import numpy as np\n",
        "import cv2\n",
        "\n",
        "# Random seed fixation\n",
        "tf.random.set_seed(666)\n",
        "np.random.seed(666)"
      ],
      "execution_count": 2,
      "outputs": [
        {
          "output_type": "stream",
          "text": [
            "/usr/local/lib/python3.6/dist-packages/statsmodels/tools/_testing.py:19: FutureWarning: pandas.util.testing is deprecated. Use the functions in the public API at pandas.testing instead.\n",
            "  import pandas.util.testing as tm\n"
          ],
          "name": "stderr"
        }
      ]
    },
    {
      "cell_type": "markdown",
      "metadata": {
        "id": "yP3vs53rs8SM",
        "colab_type": "text"
      },
      "source": [
        "## Dataset gathering and preparation"
      ]
    },
    {
      "cell_type": "code",
      "metadata": {
        "colab_type": "code",
        "id": "HJQZoWXYpjeN",
        "colab": {}
      },
      "source": [
        "# Gather dataset\n",
        "!git clone https://github.com/thunderInfy/imagenet-5-categories"
      ],
      "execution_count": null,
      "outputs": []
    },
    {
      "cell_type": "code",
      "metadata": {
        "colab_type": "code",
        "id": "2PRnOXCdppEg",
        "colab": {
          "base_uri": "https://localhost:8080/",
          "height": 34
        },
        "outputId": "baf92f5c-ca11-4fb1-a3d7-a14ced4095e4"
      },
      "source": [
        "# Train and test image paths\n",
        "train_images = list(paths.list_images(\"imagenet-5-categories/train\"))\n",
        "test_images = list(paths.list_images(\"imagenet-5-categories/test\"))\n",
        "print(len(train_images), len(test_images))"
      ],
      "execution_count": 3,
      "outputs": [
        {
          "output_type": "stream",
          "text": [
            "1250 250\n"
          ],
          "name": "stdout"
        }
      ]
    },
    {
      "cell_type": "code",
      "metadata": {
        "id": "J1bCPej7O7gq",
        "colab_type": "code",
        "colab": {
          "base_uri": "https://localhost:8080/",
          "height": 34
        },
        "outputId": "713df99f-0ed7-4970-8051-9e3daaac71fa"
      },
      "source": [
        "# 10% of the dataset\n",
        "train_images_10 = np.random.choice(train_images, len(train_images)//10)\n",
        "len(train_images_10)"
      ],
      "execution_count": 4,
      "outputs": [
        {
          "output_type": "execute_result",
          "data": {
            "text/plain": [
              "125"
            ]
          },
          "metadata": {
            "tags": []
          },
          "execution_count": 4
        }
      ]
    },
    {
      "cell_type": "code",
      "metadata": {
        "colab_type": "code",
        "id": "9giRP85TqizW",
        "colab": {}
      },
      "source": [
        "def prepare_images(image_paths):\n",
        "    images = []\n",
        "    labels = []\n",
        "\n",
        "    for image in tqdm(image_paths):\n",
        "        image_pixels = plt.imread(image)\n",
        "        image_pixels = cv2.resize(image_pixels, (224, 224))\n",
        "        image_pixels = image_pixels/255.\n",
        "\n",
        "        label = image.split(\"/\")[2].split(\"_\")[0]\n",
        "\n",
        "        images.append(image_pixels)\n",
        "        labels.append(label)\n",
        "\n",
        "    images = np.array(images)\n",
        "    labels = np.array(labels)\n",
        "\n",
        "    print(images.shape, labels.shape)\n",
        "\n",
        "    return images, labels"
      ],
      "execution_count": 5,
      "outputs": []
    },
    {
      "cell_type": "code",
      "metadata": {
        "colab_type": "code",
        "id": "YJL8IW6UsHkt",
        "colab": {
          "base_uri": "https://localhost:8080/",
          "height": 85
        },
        "outputId": "b882d9d9-0f1a-4ea8-f6ba-552f17d4497f"
      },
      "source": [
        "X_train, y_train = prepare_images(train_images_10)\n",
        "X_test, y_test = prepare_images(test_images)"
      ],
      "execution_count": 6,
      "outputs": [
        {
          "output_type": "stream",
          "text": [
            "100%|██████████| 125/125 [00:00<00:00, 224.33it/s]\n",
            "  7%|▋         | 17/250 [00:00<00:01, 164.19it/s]"
          ],
          "name": "stderr"
        },
        {
          "output_type": "stream",
          "text": [
            "(125, 224, 224, 3) (125,)\n"
          ],
          "name": "stdout"
        },
        {
          "output_type": "stream",
          "text": [
            "100%|██████████| 250/250 [00:01<00:00, 228.07it/s]\n"
          ],
          "name": "stderr"
        },
        {
          "output_type": "stream",
          "text": [
            "(250, 224, 224, 3) (250,)\n"
          ],
          "name": "stdout"
        }
      ]
    },
    {
      "cell_type": "code",
      "metadata": {
        "colab_type": "code",
        "id": "YAv47WlJvse5",
        "colab": {}
      },
      "source": [
        "le = LabelEncoder()\n",
        "y_train_enc = le.fit_transform(y_train)\n",
        "y_test_enc = le.transform(y_test)"
      ],
      "execution_count": 7,
      "outputs": []
    },
    {
      "cell_type": "markdown",
      "metadata": {
        "id": "vdM74W7Ws8Sl",
        "colab_type": "text"
      },
      "source": [
        "## Utilities"
      ]
    },
    {
      "cell_type": "code",
      "metadata": {
        "colab_type": "code",
        "id": "G8ha8pK7sSUO",
        "colab": {}
      },
      "source": [
        "# Architecture utils\n",
        "def get_resnet_simclr(hidden_1, hidden_2, hidden_3):\n",
        "    base_model = tf.keras.applications.ResNet50(include_top=False, weights=None, input_shape=(224, 224, 3))\n",
        "    base_model.trainabe = True\n",
        "    inputs = Input((224, 224, 3))\n",
        "    h = base_model(inputs, training=True)\n",
        "    h = GlobalAveragePooling2D()(h)\n",
        "\n",
        "    projection_1 = Dense(hidden_1)(h)\n",
        "    projection_1 = Activation(\"relu\")(projection_1)\n",
        "    projection_2 = Dense(hidden_2)(projection_1)\n",
        "    projection_2 = Activation(\"relu\")(projection_2)\n",
        "    projection_3 = Dense(hidden_3)(projection_2)\n",
        "\n",
        "    resnet_simclr = Model(inputs, projection_3)\n",
        "\n",
        "    return resnet_simclr"
      ],
      "execution_count": 8,
      "outputs": []
    },
    {
      "cell_type": "code",
      "metadata": {
        "colab_type": "code",
        "id": "X0GklYB-sZYz",
        "colab": {
          "base_uri": "https://localhost:8080/",
          "height": 425
        },
        "outputId": "c6998646-a475-4853-a3c2-378d17215a1c"
      },
      "source": [
        "resnet_simclr = get_resnet_simclr(256, 128, 50)\n",
        "resnet_simclr.load_weights('resnet_simclr_modified_ae.h5')\n",
        "resnet_simclr.summary()"
      ],
      "execution_count": 9,
      "outputs": [
        {
          "output_type": "stream",
          "text": [
            "Model: \"functional_1\"\n",
            "_________________________________________________________________\n",
            "Layer (type)                 Output Shape              Param #   \n",
            "=================================================================\n",
            "input_2 (InputLayer)         [(None, 224, 224, 3)]     0         \n",
            "_________________________________________________________________\n",
            "resnet50 (Functional)        (None, 7, 7, 2048)        23587712  \n",
            "_________________________________________________________________\n",
            "global_average_pooling2d (Gl (None, 2048)              0         \n",
            "_________________________________________________________________\n",
            "dense (Dense)                (None, 256)               524544    \n",
            "_________________________________________________________________\n",
            "activation (Activation)      (None, 256)               0         \n",
            "_________________________________________________________________\n",
            "dense_1 (Dense)              (None, 128)               32896     \n",
            "_________________________________________________________________\n",
            "activation_1 (Activation)    (None, 128)               0         \n",
            "_________________________________________________________________\n",
            "dense_2 (Dense)              (None, 50)                6450      \n",
            "=================================================================\n",
            "Total params: 24,151,602\n",
            "Trainable params: 24,098,482\n",
            "Non-trainable params: 53,120\n",
            "_________________________________________________________________\n"
          ],
          "name": "stdout"
        }
      ]
    },
    {
      "cell_type": "code",
      "metadata": {
        "colab_type": "code",
        "id": "Z1tFKw-7ziaG",
        "colab": {}
      },
      "source": [
        "def plot_training(H):\n",
        "\twith plt.xkcd():\n",
        "\t\tplt.plot(H.history[\"loss\"], label=\"train_loss\")\n",
        "\t\tplt.plot(H.history[\"val_loss\"], label=\"val_loss\")\n",
        "\t\tplt.plot(H.history[\"accuracy\"], label=\"train_acc\")\n",
        "\t\tplt.plot(H.history[\"val_accuracy\"], label=\"val_acc\")\n",
        "\t\tplt.title(\"Training Loss and Accuracy\")\n",
        "\t\tplt.xlabel(\"Epoch #\")\n",
        "\t\tplt.ylabel(\"Loss/Accuracy\")\n",
        "\t\tplt.legend(loc=\"lower left\")\n",
        "\t\tplt.show()"
      ],
      "execution_count": 10,
      "outputs": []
    },
    {
      "cell_type": "code",
      "metadata": {
        "id": "wABibX9QNj3m",
        "colab_type": "code",
        "colab": {}
      },
      "source": [
        "# Encoder model with no projection\n",
        "extractor = Model(resnet_simclr.input, resnet_simclr.layers[-6].output) # weights are already loaded\n",
        "\n",
        "def get_training_model(trainable=False):\n",
        "    inputs = Input(shape=(224, 224, 3))\n",
        "    extractor.trainable = trainable\n",
        "    x = extractor(inputs, training=False)\n",
        "    x = Dense(5, activation=\"softmax\")(x)\n",
        "    classifier = Model(inputs=inputs, outputs=x)\n",
        "    \n",
        "    return classifier"
      ],
      "execution_count": 11,
      "outputs": []
    },
    {
      "cell_type": "code",
      "metadata": {
        "id": "vJGeNjgPPFSx",
        "colab_type": "code",
        "colab": {
          "base_uri": "https://localhost:8080/",
          "height": 255
        },
        "outputId": "2f4223d6-7aaf-4c89-9669-04ad6abba43e"
      },
      "source": [
        "model = get_training_model()\n",
        "model.summary()"
      ],
      "execution_count": 12,
      "outputs": [
        {
          "output_type": "stream",
          "text": [
            "Model: \"functional_5\"\n",
            "_________________________________________________________________\n",
            "Layer (type)                 Output Shape              Param #   \n",
            "=================================================================\n",
            "input_3 (InputLayer)         [(None, 224, 224, 3)]     0         \n",
            "_________________________________________________________________\n",
            "functional_3 (Functional)    (None, 2048)              23587712  \n",
            "_________________________________________________________________\n",
            "dense_3 (Dense)              (None, 5)                 10245     \n",
            "=================================================================\n",
            "Total params: 23,597,957\n",
            "Trainable params: 10,245\n",
            "Non-trainable params: 23,587,712\n",
            "_________________________________________________________________\n"
          ],
          "name": "stdout"
        }
      ]
    },
    {
      "cell_type": "markdown",
      "metadata": {
        "id": "_s0nfTYos8Sy",
        "colab_type": "text"
      },
      "source": [
        "## Warmup"
      ]
    },
    {
      "cell_type": "code",
      "metadata": {
        "id": "xW5d2wFwN_pd",
        "colab_type": "code",
        "colab": {}
      },
      "source": [
        "# Early Stopping to prevent overfitting\n",
        "es = tf.keras.callbacks.EarlyStopping(monitor=\"val_loss\", patience=2, verbose=2, restore_best_weights=True)"
      ],
      "execution_count": 13,
      "outputs": []
    },
    {
      "cell_type": "code",
      "metadata": {
        "colab_type": "code",
        "id": "qnNJ5BKPsj4u",
        "colab": {
          "base_uri": "https://localhost:8080/",
          "height": 643
        },
        "outputId": "2c8a6811-57dc-40dd-899d-549e8ac74f07"
      },
      "source": [
        "model = get_training_model()\n",
        "\n",
        "model.compile(loss=\"sparse_categorical_crossentropy\", metrics=[\"accuracy\"],\n",
        "                     optimizer='adam')\n",
        "\n",
        "history = model.fit(X_train, y_train_enc,\n",
        "                 validation_data=(X_test, y_test_enc),\n",
        "                 batch_size=64,\n",
        "                 epochs=35,\n",
        "                 callbacks=[es])\n",
        "plot_training(history)"
      ],
      "execution_count": 14,
      "outputs": [
        {
          "output_type": "stream",
          "text": [
            "Epoch 1/35\n",
            "2/2 [==============================] - 2s 1s/step - loss: 1.9744 - accuracy: 0.2720 - val_loss: 2.0067 - val_accuracy: 0.3160\n",
            "Epoch 2/35\n",
            "2/2 [==============================] - 1s 339ms/step - loss: 1.7825 - accuracy: 0.3200 - val_loss: 1.6630 - val_accuracy: 0.2840\n",
            "Epoch 3/35\n",
            "2/2 [==============================] - 1s 332ms/step - loss: 1.5205 - accuracy: 0.3760 - val_loss: 1.5425 - val_accuracy: 0.3400\n",
            "Epoch 4/35\n",
            "2/2 [==============================] - 1s 344ms/step - loss: 1.3671 - accuracy: 0.4400 - val_loss: 1.5177 - val_accuracy: 0.3840\n",
            "Epoch 5/35\n",
            "2/2 [==============================] - 1s 272ms/step - loss: 1.3747 - accuracy: 0.4720 - val_loss: 1.5951 - val_accuracy: 0.3840\n",
            "Epoch 6/35\n",
            "2/2 [==============================] - 1s 336ms/step - loss: 1.3365 - accuracy: 0.4880 - val_loss: 1.4952 - val_accuracy: 0.4400\n",
            "Epoch 7/35\n",
            "2/2 [==============================] - 1s 337ms/step - loss: 1.2060 - accuracy: 0.5280 - val_loss: 1.4568 - val_accuracy: 0.4080\n",
            "Epoch 8/35\n",
            "2/2 [==============================] - 1s 269ms/step - loss: 1.3072 - accuracy: 0.4640 - val_loss: 1.4656 - val_accuracy: 0.4040\n",
            "Epoch 9/35\n",
            "2/2 [==============================] - ETA: 0s - loss: 1.2434 - accuracy: 0.5120Restoring model weights from the end of the best epoch.\n",
            "2/2 [==============================] - 1s 318ms/step - loss: 1.2434 - accuracy: 0.5120 - val_loss: 1.4589 - val_accuracy: 0.4240\n",
            "Epoch 00009: early stopping\n"
          ],
          "name": "stdout"
        },
        {
          "output_type": "display_data",
          "data": {
            "image/png": "[encoded data removed]",
            "text/plain": [
              "<Figure size 432x288 with 1 Axes>"
            ]
          },
          "metadata": {
            "tags": []
          }
        }
      ]
    },
    {
      "cell_type": "markdown",
      "metadata": {
        "id": "lxijydbDOuW4",
        "colab_type": "text"
      },
      "source": [
        "## Fine-tune"
      ]
    },
    {
      "cell_type": "code",
      "metadata": {
        "colab_type": "code",
        "id": "1B9C0a6003-O",
        "colab": {
          "base_uri": "https://localhost:8080/",
          "height": 677
        },
        "outputId": "f45aef2b-e075-453d-cb1e-5aadbcf211ff"
      },
      "source": [
        "model.layers[1].trainable = True\n",
        "\n",
        "model.compile(loss=\"sparse_categorical_crossentropy\", metrics=[\"accuracy\"],\n",
        "                     optimizer=tf.keras.optimizers.Adam(1e-5)) # Low learning rate\n",
        "\n",
        "history = model.fit(X_train, y_train_enc,\n",
        "                 validation_data=(X_test, y_test_enc),\n",
        "                 batch_size=64,\n",
        "                 epochs=35,\n",
        "                 callbacks=[es])\n",
        "plot_training(history)"
      ],
      "execution_count": 15,
      "outputs": [
        {
          "output_type": "stream",
          "text": [
            "Epoch 1/35\n",
            "2/2 [==============================] - 2s 1s/step - loss: 1.2994 - accuracy: 0.4560 - val_loss: 1.3432 - val_accuracy: 0.4280\n",
            "Epoch 2/35\n",
            "2/2 [==============================] - 1s 475ms/step - loss: 1.1110 - accuracy: 0.5680 - val_loss: 1.2964 - val_accuracy: 0.4480\n",
            "Epoch 3/35\n",
            "2/2 [==============================] - 1s 479ms/step - loss: 1.0120 - accuracy: 0.6320 - val_loss: 1.2809 - val_accuracy: 0.4600\n",
            "Epoch 4/35\n",
            "2/2 [==============================] - 1s 475ms/step - loss: 0.9221 - accuracy: 0.6720 - val_loss: 1.2724 - val_accuracy: 0.4560\n",
            "Epoch 5/35\n",
            "2/2 [==============================] - 1s 459ms/step - loss: 0.8746 - accuracy: 0.6880 - val_loss: 1.2629 - val_accuracy: 0.4640\n",
            "Epoch 6/35\n",
            "2/2 [==============================] - 1s 461ms/step - loss: 0.7984 - accuracy: 0.7120 - val_loss: 1.2552 - val_accuracy: 0.4600\n",
            "Epoch 7/35\n",
            "2/2 [==============================] - 1s 465ms/step - loss: 0.7702 - accuracy: 0.7440 - val_loss: 1.2487 - val_accuracy: 0.4600\n",
            "Epoch 8/35\n",
            "2/2 [==============================] - 1s 463ms/step - loss: 0.6970 - accuracy: 0.7680 - val_loss: 1.2452 - val_accuracy: 0.4560\n",
            "Epoch 9/35\n",
            "2/2 [==============================] - 1s 402ms/step - loss: 0.6562 - accuracy: 0.7840 - val_loss: 1.2467 - val_accuracy: 0.4680\n",
            "Epoch 10/35\n",
            "2/2 [==============================] - ETA: 0s - loss: 0.6420 - accuracy: 0.8160Restoring model weights from the end of the best epoch.\n",
            "2/2 [==============================] - 1s 459ms/step - loss: 0.6420 - accuracy: 0.8160 - val_loss: 1.2469 - val_accuracy: 0.4720\n",
            "Epoch 00010: early stopping\n"
          ],
          "name": "stdout"
        },
        {
          "output_type": "display_data",
          "data": {
            "image/png": "[encoded data removed]",
            "text/plain": [
              "<Figure size 432x288 with 1 Axes>"
            ]
          },
          "metadata": {
            "tags": []
          }
        }
      ]
    }
  ]
}